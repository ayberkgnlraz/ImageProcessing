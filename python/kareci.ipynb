{
 "cells": [
  {
   "cell_type": "code",
   "execution_count": 26,
   "metadata": {},
   "outputs": [],
   "source": [
    "# Image size\n",
    "width, height = 300,200\n",
    "\n",
    "# Create a white image\n",
    "image = Image.new(\"RGB\", (width, height), \"white\")\n",
    "\n",
    "# Create a drawing object\n",
    "draw = ImageDraw.Draw(image)\n",
    "\n",
    "# Draw a black rectangle\n",
    "rectangle_start = (50, 50)\n",
    "rectangle_end = (250, 150)\n",
    "draw.rectangle([rectangle_start, rectangle_end], fill=\"black\")\n",
    "\n",
    "# Draw a black line with thickness\n",
    "line_start = (195, 175)\n",
    "line_end = (200, 175)\n",
    "line_width = 5  # Adjust the thickness as needed\n",
    "draw.line([line_start, line_end], fill=\"black\", width=line_width)\n",
    "\n",
    "# Save the image as a PNG file\n",
    "image.save(\"output_image.png\")\n",
    "\n",
    "# Show the image (optional)\n",
    "image.show()"
   ]
  },
  {
   "cell_type": "code",
   "execution_count": 13,
   "metadata": {},
   "outputs": [],
   "source": [
    "import random"
   ]
  },
  {
   "cell_type": "code",
   "execution_count": 28,
   "metadata": {},
   "outputs": [],
   "source": [
    "for i in range(0,10):\n",
    "    width , height = 1000,1000\n",
    "    image = Image.new(\"RGB\",(width,height),\"white\")\n",
    "    draw = ImageDraw.Draw(image)\n",
    "    rect1 = random.randint(300,800)\n",
    "    rect2 = random.randint(100,500)\n",
    "    rectangle_start = (int((1000-rect1)/2),int((1000-rect1)/2))\n",
    "    rectangle_end   = ((int((1000-rect1)/2) + rect1),(int((1000-rect1)/2)+rect2))\n",
    "    draw.rectangle([rectangle_start, rectangle_end], fill=\"black\")\n",
    "    # Draw a black line with thickness\n",
    "    line_start = (100, 975)\n",
    "    line_end = (450, 975)\n",
    "    line_width = 10  # Adjust the thickness as needed\n",
    "    draw.line([line_start, line_end], fill=\"black\", width=line_width)\n",
    "    image.save(f\"kare{i}.png\")"
   ]
  },
  {
   "cell_type": "code",
   "execution_count": 21,
   "metadata": {},
   "outputs": [
    {
     "data": {
      "text/plain": [
       "(250, 250)"
      ]
     },
     "execution_count": 21,
     "metadata": {},
     "output_type": "execute_result"
    }
   ],
   "source": [
    "rectangle_start"
   ]
  },
  {
   "cell_type": "code",
   "execution_count": 22,
   "metadata": {},
   "outputs": [
    {
     "data": {
      "text/plain": [
       "(749, 717)"
      ]
     },
     "execution_count": 22,
     "metadata": {},
     "output_type": "execute_result"
    }
   ],
   "source": [
    "rectangle_end"
   ]
  },
  {
   "cell_type": "code",
   "execution_count": null,
   "metadata": {},
   "outputs": [],
   "source": []
  }
 ],
 "metadata": {
  "kernelspec": {
   "display_name": "Python 3",
   "language": "python",
   "name": "python3"
  },
  "language_info": {
   "codemirror_mode": {
    "name": "ipython",
    "version": 3
   },
   "file_extension": ".py",
   "mimetype": "text/x-python",
   "name": "python",
   "nbconvert_exporter": "python",
   "pygments_lexer": "ipython3",
   "version": "3.11.5"
  }
 },
 "nbformat": 4,
 "nbformat_minor": 2
}
